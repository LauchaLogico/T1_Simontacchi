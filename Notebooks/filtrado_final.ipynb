{
 "cells": [
  {
   "cell_type": "code",
   "execution_count": 1,
   "id": "90be6a78-3655-45d7-b901-c7af260d4eee",
   "metadata": {},
   "outputs": [],
   "source": [
    "import pandas as pd\n",
    "import ast"
   ]
  },
  {
   "cell_type": "code",
   "execution_count": 2,
   "id": "fca8a61f-eb29-4936-87e2-951114723121",
   "metadata": {},
   "outputs": [],
   "source": [
    "# Filtrado para la api_directores\n",
    "df = pd.read_csv(\"crew_desanidado.csv\")"
   ]
  },
  {
   "cell_type": "code",
   "execution_count": 10,
   "id": "a9c1251b-aee7-4fac-9fe6-a79ecad766be",
   "metadata": {},
   "outputs": [],
   "source": [
    "directores = df[df[\"job\"].str.contains(\"Director\", na=False)]\n",
    "directores_api = directores.loc[:,[\"name\",\"id_original\"]]"
   ]
  },
  {
   "cell_type": "code",
   "execution_count": 12,
   "id": "d507271c-b816-4449-a313-c194bee66995",
   "metadata": {},
   "outputs": [],
   "source": [
    "# Filtrado para la api_actores\n",
    "df = pd.read_csv(\"cast_desanidado.csv\")\n",
    "actores_api = df.loc[:,[\"name\",\"id_original\"]]"
   ]
  },
  {
   "cell_type": "code",
   "execution_count": 14,
   "id": "292df6a8-5958-4458-97f1-64f4d6f6bec8",
   "metadata": {},
   "outputs": [],
   "source": [
    "# Filtrado para la todas las apis\n",
    "df = pd.read_csv(\"movies_limpio.csv\")\n",
    "movies_api = df.loc[:,[\"budget\",\"id\",\"popularity\",\"release_date\",\"revenue\",\"title\",\"vote_average\",\"vote_count\",\"release_year\",\"return\"]]"
   ]
  },
  {
   "cell_type": "code",
   "execution_count": 18,
   "id": "be0e5b0b-c36f-4405-b258-6026f2d7433f",
   "metadata": {},
   "outputs": [],
   "source": [
    "#guardo todo en archivos .csv\n",
    "directores_api.to_csv(\"definitivo/directores_api.csv\", index=False)\n",
    "actores_api.to_csv(\"definitivo/actores_api.csv\", index=False)\n",
    "movies_api.to_csv(\"definitivo/movies_api.csv\", index=False)"
   ]
  },
  {
   "cell_type": "code",
   "execution_count": 20,
   "id": "c18902cf-5f00-4454-8d37-12855c1d2c72",
   "metadata": {},
   "outputs": [],
   "source": [
    "#para la recomendacion\n",
    "recomendacion_api = df.loc[:,[\"id\",\"popularity\",\"vote_average\",\"overview\",\"title\"]]\n",
    "recomendacion_api.to_csv(\"definitivo/recomendacion_api.csv\", index=False)"
   ]
  },
  {
   "cell_type": "code",
   "execution_count": 21,
   "id": "b7d8225f-8fff-47e6-8abd-2a86faffee9f",
   "metadata": {},
   "outputs": [],
   "source": [
    "movies_api.to_csv(\"definitivo/movies_api.csv\", index=False)"
   ]
  },
  {
   "cell_type": "code",
   "execution_count": null,
   "id": "9c4d45a5-62e5-46e4-8e1d-49d98fa42405",
   "metadata": {},
   "outputs": [],
   "source": []
  }
 ],
 "metadata": {
  "kernelspec": {
   "display_name": "Python 3 (ipykernel)",
   "language": "python",
   "name": "python3"
  },
  "language_info": {
   "codemirror_mode": {
    "name": "ipython",
    "version": 3
   },
   "file_extension": ".py",
   "mimetype": "text/x-python",
   "name": "python",
   "nbconvert_exporter": "python",
   "pygments_lexer": "ipython3",
   "version": "3.11.5"
  }
 },
 "nbformat": 4,
 "nbformat_minor": 5
}
